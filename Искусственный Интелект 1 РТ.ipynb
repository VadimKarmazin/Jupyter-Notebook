{
 "cells": [
  {
   "cell_type": "markdown",
   "id": "54207b6b",
   "metadata": {},
   "source": [
    "# Рабочая тетрадь 1. Основы Python\n",
    "## Кармазин Вадим Сергеевич"
   ]
  },
  {
   "cell_type": "markdown",
   "id": "ed12cc5b",
   "metadata": {},
   "source": [
    "<img src=\"https://aniyuki.com/wp-content/uploads/2021/12/aniyuki-itachi-if-8.gif\">"
   ]
  },
  {
   "cell_type": "markdown",
   "id": "231ff449",
   "metadata": {},
   "source": [
    "### Типы данных\n",
    "```\n",
    "Все типы данных в Python относятся к одной из 2-х категорий: \n",
    "изменяемые (mutable) и неизменяемые (immutable).\n",
    "Неизменяемые объекты:\n",
    "\tчисловые данные (int, float),\n",
    "\tbool,\n",
    "\tNone,\n",
    "\tсимвольные строки (class 'str'),\n",
    "\tкортежи (tuple).\n",
    "Изменяемые объекты:\n",
    "\tсписки (list),\n",
    "\tмножества (set),\n",
    "\tсловари (dict).\n",
    "```"
   ]
  },
  {
   "cell_type": "markdown",
   "id": "f11fcb56",
   "metadata": {},
   "source": [
    "***Пример:*** Выведите на печать и определите тип переменной."
   ]
  },
  {
   "cell_type": "code",
   "execution_count": 2,
   "id": "09685ed9",
   "metadata": {},
   "outputs": [
    {
     "name": "stdout",
     "output_type": "stream",
     "text": [
      "39.4 | <class 'float'> \n",
      " None | <class 'NoneType'> \n",
      " ('a', 5, 12.345, (2, 'b')) | <class 'tuple'> \n",
      " [['Антонова Антонина', 34, 'ж'], ['Борисов Борис', 26, 'м']] | <class 'list'> \n",
      " {1, 2, 'title', 'content'} | <class 'set'>\n"
     ]
    }
   ],
   "source": [
    "x = 3+5.2*7\n",
    "y = None\n",
    "z = 'a', 5, 12.345, (2, 'b')\n",
    "df = [['Антонова Антонина', 34, 'ж'],['Борисов Борис', 26, 'м']]\n",
    "A = {1, 'title', 2, 'content'}\n",
    "print(x, '|', type(x), '\\n', y, '|', type(y), '\\n', z, '|', type(z), '\\n', df, '|', type(df), '\\n', A, '|', type(A))"
   ]
  },
  {
   "cell_type": "markdown",
   "id": "f7bceded",
   "metadata": {},
   "source": [
    "***Задане:*** Выведите на печать и определите тип переменной."
   ]
  },
  {
   "cell_type": "code",
   "execution_count": 3,
   "id": "4d1e9068",
   "metadata": {},
   "outputs": [
    {
     "name": "stdout",
     "output_type": "stream",
     "text": [
      "True | <class 'bool'> \n",
      " {8, 1, 3, 7} | <class 'set'> \n",
      " {2, 4, 5, 10, 'apple'} | <class 'set'> \n",
      " set() | <class 'set'> \n",
      " ('Антонова Антонина', 34, 'ж') | <class 'tuple'> \n",
      " type | <class 'str'> \n",
      " [1, 'title', 2, 'content'] | <class 'list'> \n",
      "\n"
     ]
    }
   ],
   "source": [
    "x = 5 >= 2\n",
    "A = {1, 3, 7, 8}\n",
    "B = {2, 4, 5, 10, 'apple'}\n",
    "C = A & B\n",
    "df = 'Антонова Антонина', 34, 'ж'\n",
    "z = 'type'\n",
    "D = [1, 'title', 2, 'content']\n",
    "print(x, '|', type(x), '\\n', A, '|', type(A), '\\n', B, '|', type(B), '\\n', C, '|', type(C), '\\n', df, '|', type(df), '\\n', z, '|', type(z), '\\n', D, '|', type(D), '\\n', )"
   ]
  },
  {
   "cell_type": "markdown",
   "id": "0d38f573",
   "metadata": {},
   "source": [
    "<img src=\"https://giffiles.alphacoders.com/350/35099.gif\">"
   ]
  },
  {
   "cell_type": "markdown",
   "id": "1c4262d4",
   "metadata": {},
   "source": [
    "### If - Условный оператор\n",
    "```\n",
    "В коде часто приходится проверять выполнимость или невыполнимость каких-то условий. Синтаксис:\n",
    "if<условие1 (булевское выражение)> :\n",
    "    <код, который выполнится, если условие верно>\n",
    "elif<условие2 (булевское выражение)>:\n",
    "    <код, который выполнится, если условие1 было неверно, а условие2верно>\n",
    "else:\n",
    "    <код, который выполнится, если условие1 и условие2 были неверны>\n",
    "Обратите внимание, что код, который должен выполняться внутри каждого условия, записывается с отступом в 4 пробела от уровня if, elif и else: в питоне области видимости переменных обозначаются отступами.\n",
    "```\n",
    "***То есть, отступы позволяют понять, где начинается код, который должен выполняться при выполнении условия в if, и где заканчивается.***\n"
   ]
  },
  {
   "cell_type": "markdown",
   "id": "ef3b7eaa",
   "metadata": {},
   "source": [
    "***Пример:*** Вывести на экран является ли переменная х положительной, отрицательной или равна нулю."
   ]
  },
  {
   "cell_type": "code",
   "execution_count": 4,
   "id": "46288ed3",
   "metadata": {},
   "outputs": [
    {
     "name": "stdout",
     "output_type": "stream",
     "text": [
      "x положительный\n"
     ]
    }
   ],
   "source": [
    "x = 125\n",
    "if x<0:\n",
    "    print(\"x отрицательный\")\n",
    "elif x==0:\n",
    "    print(\"x равен нулю\")\n",
    "else:\n",
    "    print(\"x положительный\")"
   ]
  },
  {
   "cell_type": "markdown",
   "id": "140b1907",
   "metadata": {},
   "source": [
    "***Задание:*** Напишите код. Задается х, напечатать какому из интервалов принадлежит: (-infinity, -5), [-5, 5] или от (5, +infinity)"
   ]
  },
  {
   "cell_type": "code",
   "execution_count": 5,
   "id": "926516f5",
   "metadata": {},
   "outputs": [
    {
     "name": "stdout",
     "output_type": "stream",
     "text": [
      "x принадлежит промежутку (5; ∞)\n"
     ]
    }
   ],
   "source": [
    "x = 100\n",
    "if x<-5:\n",
    "    print(\"x принадлежит промежутку (-∞;-5)\")\n",
    "elif x<=5:\n",
    "    print(\"x принадлежит промежутку [-5; 5]\")\n",
    "else:\n",
    "    print(\"x принадлежит промежутку (5; ∞)\")"
   ]
  },
  {
   "cell_type": "markdown",
   "id": "ef7f545a",
   "metadata": {},
   "source": [
    "<img src=\"https://c.tenor.com/pLhhw8tQib0AAAAC/killua-hunter-x-hunter.gif\">"
   ]
  },
  {
   "cell_type": "markdown",
   "id": "448c88a2",
   "metadata": {},
   "source": [
    "### Циклы - for и while\n",
    "```\n",
    "Цикл while проверяет истинность условия, и если условие истинно, то выполняет инструкции цикла.\n",
    "Синтаксис:\n",
    "while условие:\n",
    "    инструкции\n",
    "Инструкции, которые относятся к циклу while, располагаются на последующих строках и должны иметь отступ от начала ключевого слова while.\n",
    "Цикл for проходит по набору значений, помещает каждое значение в переменную с которой в цикле можно производить различные действия.\n",
    "Синтаксис:\n",
    "for переменная in набор_значений:\n",
    "    инструкции\n",
    "После ключевого слова for идет название переменной, в которую будут помещаться значения. После оператора in указывается набор значений и двоеточие. Инструкции, которые относятся к циклу, располагаются на последующих строках и должны иметь отступ.\n",
    "При создании цикла удобно пользоваться функцией range(a, b), которая создает последовательность чисел от a до b-1\n",
    "```"
   ]
  },
  {
   "cell_type": "markdown",
   "id": "4a2b0e30",
   "metadata": {},
   "source": [
    "***Пример:*** Вывести все числа от 1 до 10 с шагом 3."
   ]
  },
  {
   "cell_type": "code",
   "execution_count": 6,
   "id": "47b02102",
   "metadata": {},
   "outputs": [
    {
     "name": "stdout",
     "output_type": "stream",
     "text": [
      "1\n",
      "4\n",
      "7\n",
      "10\n"
     ]
    }
   ],
   "source": [
    "x = 1\n",
    "while x <= 10:\n",
    "    print(x)\n",
    "    x += 3"
   ]
  },
  {
   "cell_type": "markdown",
   "id": "96959235",
   "metadata": {},
   "source": [
    "***Пример:*** Задан список. Напечатать все элементы списка."
   ]
  },
  {
   "cell_type": "code",
   "execution_count": 7,
   "id": "76715ed5",
   "metadata": {},
   "outputs": [
    {
     "name": "stdout",
     "output_type": "stream",
     "text": [
      "KNN\n",
      "decision tree\n",
      "linear model\n"
     ]
    }
   ],
   "source": [
    "models = ['KNN', 'decision tree', 'linear model']\n",
    "for model in models:\n",
    "    print(model)"
   ]
  },
  {
   "cell_type": "markdown",
   "id": "c630e1b2",
   "metadata": {},
   "source": [
    "***Пример:*** Создать список от 1 до 99 с шагом 7."
   ]
  },
  {
   "cell_type": "code",
   "execution_count": 8,
   "id": "6114e0c4",
   "metadata": {},
   "outputs": [
    {
     "name": "stdout",
     "output_type": "stream",
     "text": [
      "[1, 8, 15, 22, 29, 36, 43, 50, 57, 64, 71, 78, 85, 92, 99]\n"
     ]
    }
   ],
   "source": [
    "list_int = range(1, 100, 7)\n",
    "print(list(list_int))"
   ]
  },
  {
   "cell_type": "markdown",
   "id": "d4cdc825",
   "metadata": {},
   "source": [
    "***Пример:*** Вывести на экран числа от 5 до 105 с шагом 25, используя функцию range()"
   ]
  },
  {
   "cell_type": "code",
   "execution_count": 9,
   "id": "3f2e13e0",
   "metadata": {},
   "outputs": [
    {
     "name": "stdout",
     "output_type": "stream",
     "text": [
      "5\n",
      "30\n",
      "55\n",
      "80\n",
      "105\n"
     ]
    }
   ],
   "source": [
    "for i in range (5, 106, 25):\n",
    "    print(i)"
   ]
  },
  {
   "cell_type": "markdown",
   "id": "83178afb",
   "metadata": {},
   "source": [
    "***Пример:*** Срез.Необходимо получить каждый k-й элемент массива a, начиная с элемента с индексом i (включительно) и заканчивая элементом с индексом j (не включительно), c шагом 2. Переставить все элементы в обратном порядке."
   ]
  },
  {
   "cell_type": "code",
   "execution_count": 10,
   "id": "436ecbc1",
   "metadata": {},
   "outputs": [
    {
     "name": "stdout",
     "output_type": "stream",
     "text": [
      "[2, 4, 6]\n",
      "[9, 8, 7, 6, 5, 4, 3, 2, 1]\n"
     ]
    }
   ],
   "source": [
    "a = [1, 2, 3, 4, 5, 6, 7, 8, 9]\n",
    "b = a[1:7:2]\n",
    "c = a[::-1]\n",
    "print(b)\n",
    "print(c)"
   ]
  },
  {
   "cell_type": "markdown",
   "id": "51e04b73",
   "metadata": {},
   "source": [
    "***Задание:*** Выведите числа из примера на while (3.2.1) в обратном порядке."
   ]
  },
  {
   "cell_type": "code",
   "execution_count": 11,
   "id": "65035b72",
   "metadata": {},
   "outputs": [
    {
     "name": "stdout",
     "output_type": "stream",
     "text": [
      "10\n",
      "7\n",
      "4\n",
      "1\n"
     ]
    }
   ],
   "source": [
    "x = 10\n",
    "while x>=1:\n",
    "    print(x)\n",
    "    x -= 3"
   ]
  },
  {
   "cell_type": "markdown",
   "id": "d2d2e4d6",
   "metadata": {},
   "source": [
    "***Задание:*** При решении задач машинного обучения часто в качестве объектов исследования выступает человек. Создайте список значимых характеристик (признаков), идентифицирующих человека. Выведите список на экран."
   ]
  },
  {
   "cell_type": "code",
   "execution_count": 12,
   "id": "b0b68cf2",
   "metadata": {},
   "outputs": [
    {
     "name": "stdout",
     "output_type": "stream",
     "text": [
      "пол\n",
      "рост\n",
      "вес\n",
      "год рождения\n",
      "цвет волос\n"
     ]
    }
   ],
   "source": [
    "characteristics = ['пол', 'рост', 'вес', 'год рождения', 'цвет волос']\n",
    "for i in characteristics:\n",
    "    print(i)"
   ]
  },
  {
   "cell_type": "markdown",
   "id": "a2119faa",
   "metadata": {},
   "source": [
    "***Задание:*** Создать список чисел от 2 до 15 с шагом 1."
   ]
  },
  {
   "cell_type": "code",
   "execution_count": 13,
   "id": "0cdeef81",
   "metadata": {},
   "outputs": [
    {
     "name": "stdout",
     "output_type": "stream",
     "text": [
      "[2, 3, 4, 5, 6, 7, 8, 9, 10, 11, 12, 13, 14, 15]\n"
     ]
    }
   ],
   "source": [
    "list_int = range(2, 16, 1)\n",
    "print(list(list_int))"
   ]
  },
  {
   "cell_type": "markdown",
   "id": "a67f2f7a",
   "metadata": {},
   "source": [
    "***Задание:*** Выведите числа из примера на for c функцией range() (3.2.4) в\n",
    "обратном порядке."
   ]
  },
  {
   "cell_type": "code",
   "execution_count": 14,
   "id": "79411a0c",
   "metadata": {},
   "outputs": [
    {
     "name": "stdout",
     "output_type": "stream",
     "text": [
      "105\n",
      "80\n",
      "55\n",
      "30\n",
      "5\n"
     ]
    }
   ],
   "source": [
    "for i in range(105, 4, -25):\n",
    "    print(i)"
   ]
  },
  {
   "cell_type": "markdown",
   "id": "2eda3f53",
   "metadata": {},
   "source": [
    "***Задание:*** Срез. Напишите код, который все элементы массива x с четными индексами переставит в обратном порядке. Т.е. если x = [0, 1, 2, 3, 4, 5, 6, 7, 8, 9], то код должен сформировать [8, 1, 6, 3, 4, 5, 2, 7, 0, 9]."
   ]
  },
  {
   "cell_type": "code",
   "execution_count": 15,
   "id": "f09aeb51",
   "metadata": {},
   "outputs": [
    {
     "name": "stdout",
     "output_type": "stream",
     "text": [
      "[8, 1, 6, 3, 4, 5, 2, 7, 0, 9]\n"
     ]
    }
   ],
   "source": [
    "x = [0, 1, 2, 3, 4, 5, 6, 7, 8, 9]\n",
    "x[0::2] = reversed(x[0::2])\n",
    "print(x)"
   ]
  },
  {
   "cell_type": "markdown",
   "id": "4869e003",
   "metadata": {},
   "source": [
    "<img src=\"https://pa1.narvii.com/7228/82e4b50709f25fd274a823b2f64fb6ef0b893912r1-540-304_hq.gif\">"
   ]
  },
  {
   "cell_type": "markdown",
   "id": "6dadbc81",
   "metadata": {},
   "source": [
    "```\n",
    "    Машинное обучение опирается на фундаментальные понятия и законы\n",
    "математики и информатики. Библиотека математических функций (math)\n",
    "применяется при решении большинства прикладных задач анализа данных.\n",
    "Также, и некоторые другие библиотеки Python содержат математические\n",
    "функции (например, NumPy). Важную роль играет библиотека matplotlib,\n",
    "которая позволяет производить визуализацию расчетов в удобной для\n",
    "восприятия человеком форме: графики, диаграммы, гистограммы.\n",
    "    Подключение библиотек – синтаксис:\n",
    "import math as m\n",
    "import numpy as np\n",
    "import matplotlib.pyplot as plt\n",
    "etc…\n",
    "Библиотеки в python содержат не только функции, позволяющие решать\n",
    "различные задачи, но и некоторые популярные константы, например число\n",
    "Эйлера.\n",
    "```"
   ]
  },
  {
   "cell_type": "markdown",
   "id": "bc71282b",
   "metadata": {},
   "source": [
    "***Пример:*** Рассчитать синус от е радиан и вывести результат на экран"
   ]
  },
  {
   "cell_type": "code",
   "execution_count": 16,
   "id": "338ef367",
   "metadata": {},
   "outputs": [
    {
     "name": "stdout",
     "output_type": "stream",
     "text": [
      "0.41078129050290885\n"
     ]
    }
   ],
   "source": [
    "import math as m\n",
    "print(m.sin (m.e))"
   ]
  },
  {
   "cell_type": "markdown",
   "id": "92b1e89b",
   "metadata": {},
   "source": [
    "***Пример:*** Для функции \\\\(sin(𝑥𝑒^{cos(𝑥)})\\\\) на интервале [0;10] с шагом 0,05 построить\n",
    "график функции, закрасить площадь под ним и вычислить значение\n",
    "этой площади.</br>\n",
    "Для вычисления площади воспользуйте функции trapz(), вычисляющей\n",
    "интеграл по правилу трапеции. Для ее корректной работы необходимо\n",
    "подключить следующие библиотеки:</br>\n",
    "from scipy.integrate import simps</br>\n",
    "from numpy import trapz"
   ]
  },
  {
   "cell_type": "code",
   "execution_count": 17,
   "id": "c4b2ab60",
   "metadata": {},
   "outputs": [
    {
     "name": "stdout",
     "output_type": "stream",
     "text": [
      "73.50792907748662\n"
     ]
    },
    {
     "data": {
      "image/png": "[encoded data removed]",
      "text/plain": [
       "<Figure size 432x288 with 1 Axes>"
      ]
     },
     "metadata": {
      "needs_background": "light"
     },
     "output_type": "display_data"
    }
   ],
   "source": [
    "import numpy as np\n",
    "import matplotlib.pyplot as plt\n",
    "from scipy.integrate import simps\n",
    "from numpy import trapz\n",
    "x = np.arange(0.0, 10, 0.1)\n",
    "y = np.abs(np.sin(x*np.exp(np.cos(x))))\n",
    "plt.grid()\n",
    "plt.plot(x, y, c = \"r\")\n",
    "plt.fill_between(x, y)\n",
    "\n",
    "area = trapz(y)\n",
    "print (area)"
   ]
  },
  {
   "cell_type": "markdown",
   "id": "668365f4",
   "metadata": {},
   "source": [
    "***Пример:*** Дано некоторое распределение оценок в группе за экзамен. Нарисовать круговую и точечную диаграммы распределения. "
   ]
  },
  {
   "cell_type": "code",
   "execution_count": 18,
   "id": "8e20853e",
   "metadata": {},
   "outputs": [
    {
     "data": {
      "image/png": "[encoded data removed]",
      "text/plain": [
       "<Figure size 720x504 with 1 Axes>"
      ]
     },
     "metadata": {},
     "output_type": "display_data"
    },
    {
     "data": {
      "text/plain": [
       "<matplotlib.collections.PathCollection at 0x200114ae850>"
      ]
     },
     "execution_count": 18,
     "metadata": {},
     "output_type": "execute_result"
    },
    {
     "data": {
      "image/png": "[encoded data removed]",
      "text/plain": [
       "<Figure size 432x288 with 1 Axes>"
      ]
     },
     "metadata": {
      "needs_background": "light"
     },
     "output_type": "display_data"
    }
   ],
   "source": [
    "from matplotlib import pyplot as plt\n",
    "import numpy as np\n",
    "\n",
    "marks = ['Неуд', 'Удовл', 'Хор', 'Отл']\n",
    "\n",
    "data = [3, 7, 8, 4]\n",
    "fig = plt.figure(figsize =(10, 7))\n",
    "plt. pie(data, labels = marks)\n",
    "plt.show()\n",
    "plt.grid()\n",
    "plt.scatter (marks,data)"
   ]
  },
  {
   "cell_type": "markdown",
   "id": "45e485c8",
   "metadata": {},
   "source": [
    "***Задание:*** Задайте массив случайных значений из интервала(0; 1). Рассчитайте средние и медианные значения для массива, сравните результаты, какие выводы можно сделать о значениях? Постройте точечную диаграмму рассения полученного ряда."
   ]
  },
  {
   "cell_type": "code",
   "execution_count": 2,
   "id": "7957cc2b",
   "metadata": {},
   "outputs": [
    {
     "data": {
      "text/plain": [
       "<matplotlib.collections.PathCollection at 0x2dbf3b9ffd0>"
      ]
     },
     "execution_count": 2,
     "metadata": {},
     "output_type": "execute_result"
    },
    {
     "data": {
      "image/png": "[encoded data removed]",
      "text/plain": [
       "<Figure size 432x288 with 1 Axes>"
      ]
     },
     "metadata": {
      "needs_background": "light"
     },
     "output_type": "display_data"
    }
   ],
   "source": [
    "import numpy as np\n",
    "import pandas as pd\n",
    "import matplotlib.pyplot as plt\n",
    "mas=np.random.rand(10)\n",
    "rd = pd.DataFrame(mas)\n",
    "df = pd.DataFrame({'mean': rd.mean(), 'median': rd.median()})\n",
    "x=rd.mean()\n",
    "y=rd.median()\n",
    "fig, ax = plt.subplots()\n",
    "plt.grid()\n",
    "ax.scatter(mas, mas)"
   ]
  },
  {
   "cell_type": "markdown",
   "id": "83a7cd98",
   "metadata": {},
   "source": [
    "***Задание:*** Дана функция \\\\(\\frac{\\sqrt{1+e^{\\sqrt{x}}+\\cos(x^2)}}{|1-\\sin^3(x)|}+ln|2x|\\\\); Создать массив из 10 значений функции (𝑥, например, изменяется от 1 до 10). Выделить срез первой половины массива и построить графики для основного массива – линейный и для среза – точечный"
   ]
  },
  {
   "cell_type": "code",
   "execution_count": 20,
   "id": "ced350a4",
   "metadata": {},
   "outputs": [
    {
     "data": {
      "text/plain": [
       "<matplotlib.collections.PathCollection at 0x200115b0b80>"
      ]
     },
     "execution_count": 20,
     "metadata": {},
     "output_type": "execute_result"
    },
    {
     "data": {
      "image/png": "[encoded data removed]",
      "text/plain": [
       "<Figure size 432x288 with 1 Axes>"
      ]
     },
     "metadata": {
      "needs_background": "light"
     },
     "output_type": "display_data"
    }
   ],
   "source": [
    "import numpy as np\n",
    "import matplotlib.pyplot as plt\n",
    "from numpy import trapz\n",
    "x = np.arange(1, 11,1)\n",
    "func = ((np.sqrt(1+np.e**(np.sqrt(x))+np.cos(x**2)))/(np.abs(1-np.sin(x)**3)))+ np.log(2*x)\n",
    "plt.grid()\n",
    "x1=x[0:5]\n",
    "y1=func[0:5]\n",
    "plt.plot(x, func,c='y')\n",
    "plt.scatter(x1,y1,c='b')"
   ]
  },
  {
   "cell_type": "markdown",
   "id": "805f3014",
   "metadata": {},
   "source": [
    "***Задание:*** Дана функция \\\\(|cos(𝑥𝑒^{(cos(𝑥)+ln(𝑥+1)})|\\\\) Построить график на\n",
    "интервале (0,10) с шагом 1 с заливкой площади и найти эту площадь\n",
    "под ним. Для вычисления площади воспользуйте функции trapz(), вычисляющей интеграл по правилу трапеции.\n",
    "Для ее корректной работы необходимо подключить следующие библиотеки:<br>\n",
    "from scipy.integrate import simps<br>\n",
    "from numpy import trapz"
   ]
  },
  {
   "cell_type": "code",
   "execution_count": 21,
   "id": "7fbe9847",
   "metadata": {},
   "outputs": [
    {
     "name": "stdout",
     "output_type": "stream",
     "text": [
      "6.748183214657733\n"
     ]
    },
    {
     "data": {
      "image/png": "[encoded data removed]",
      "text/plain": [
       "<Figure size 432x288 with 1 Axes>"
      ]
     },
     "metadata": {
      "needs_background": "light"
     },
     "output_type": "display_data"
    }
   ],
   "source": [
    "import numpy as np\n",
    "import matplotlib.pyplot as plt\n",
    "from scipy.integrate import simps \n",
    "from numpy import trapz\n",
    "x = np.arange(0, 11, 1)\n",
    "y = np.abs(np.cos(x*np.exp((np.cos(x))+np.log(x+1))))\n",
    "plt.grid()\n",
    "plt.plot(x, y, c = \"r\")\n",
    "plt.fill_between(x, y)\n",
    "area = trapz(y)\n",
    "print (area)"
   ]
  },
  {
   "cell_type": "markdown",
   "id": "3d46a64a",
   "metadata": {},
   "source": [
    "***Задание:*** Откройте статистические данные по стоимости акций Apple, Microsoft, Google за 12 месяцев 2021 г. Постройте 3 графика на плоскости и оцените их динамику. Подумайте, как можно улучшить читаемость результатов.\n",
    "\n",
    "Для начальных данных допустимо использовать следующий ресурс: https://finance.yahoo.com"
   ]
  },
  {
   "cell_type": "code",
   "execution_count": 23,
   "id": "96b221a6",
   "metadata": {},
   "outputs": [
    {
     "data": {
      "image/png": "[encoded data removed]",
      "text/plain": [
       "<Figure size 432x288 with 1 Axes>"
      ]
     },
     "metadata": {
      "needs_background": "light"
     },
     "output_type": "display_data"
    },
    {
     "data": {
      "image/png": "[encoded data removed]",
      "text/plain": [
       "<Figure size 432x288 with 1 Axes>"
      ]
     },
     "metadata": {
      "needs_background": "light"
     },
     "output_type": "display_data"
    },
    {
     "data": {
      "image/png": "[encoded data removed]",
      "text/plain": [
       "<Figure size 432x288 with 1 Axes>"
      ]
     },
     "metadata": {
      "needs_background": "light"
     },
     "output_type": "display_data"
    }
   ],
   "source": [
    "import pandas_datareader as pdr\n",
    "import datetime \n",
    "import pandas as pd\n",
    "import matplotlib.pyplot as plt\n",
    "import pylab\n",
    "def finance_check(names,titles):\n",
    "    teg = pdr.get_data_yahoo(names, \n",
    "                          start=datetime.datetime(2021, 1, 1), \n",
    "                          end=datetime.datetime(2022, 1, 1))\n",
    "\n",
    "    pylab.title (titles)\n",
    "    teg.index\n",
    "    teg.columns\n",
    "    monthly_aapl = teg.resample('M').mean()\n",
    "    teg['Close'].plot(grid=True)\n",
    "    plt.show()\n",
    "finance_check('AAPL','Apple')\n",
    "finance_check('MSFT','Microsoft')\n",
    "finance_check('GOOGL','Google')"
   ]
  },
  {
   "cell_type": "markdown",
   "id": "2e5fb38f",
   "metadata": {},
   "source": [
    "***Задание:*** Создайте простейший калькулятор, включающий основные действия для двух переменных ′+′,′−′,′∙′,′÷′, а также вычисление следующих функций: 𝑒𝑥+𝑦,sin(𝑥+𝑦),cos(𝑥+𝑦),𝑥𝑦."
   ]
  },
  {
   "cell_type": "code",
   "execution_count": 24,
   "id": "7ff1dc8e",
   "metadata": {},
   "outputs": [
    {
     "name": "stdout",
     "output_type": "stream",
     "text": [
      "x=5\n",
      "y=21\n",
      "x+y=26\n",
      "x-y=-16\n",
      "x*y=105\n",
      "x/y=0.23809523809523808\n",
      "𝑒𝑥+𝑦=34.59140914229523\n",
      "sin(𝑥+𝑦)=0.7625584504796027\n",
      "cos(𝑥+𝑦)=0.6469193223286404\n",
      "𝑥𝑦=105\n"
     ]
    }
   ],
   "source": [
    "import numpy as np\n",
    "x=np.random.randint(0,100)\n",
    "print(f'x={x}')\n",
    "y=np.random.randint(0,100)\n",
    "print(f'y={y}')\n",
    "print(f'x+y={x+y}')\n",
    "print(f'x-y={x-y}')\n",
    "print(f'x*y={x*y}')\n",
    "print(f'x/y={x/y}')\n",
    "print(f'𝑒𝑥+𝑦={np.e*x+y}')\n",
    "print(f'sin(𝑥+𝑦)={np.sin(x+y)}')\n",
    "print(f'cos(𝑥+𝑦)={np.cos(x+y)}')\n",
    "print(f'𝑥𝑦={x*y}')"
   ]
  },
  {
   "cell_type": "markdown",
   "id": "b3dfaf31",
   "metadata": {},
   "source": [
    "<img src = \"https://pa1.narvii.com/6917/dead80bbb256be4394b6799f36b282d687cac732r1-540-305_hq.gif\">"
   ]
  }
 ],
 "metadata": {
  "kernelspec": {
   "display_name": "Python 3 (ipykernel)",
   "language": "python",
   "name": "python3"
  },
  "language_info": {
   "codemirror_mode": {
    "name": "ipython",
    "version": 3
   },
   "file_extension": ".py",
   "mimetype": "text/x-python",
   "name": "python",
   "nbconvert_exporter": "python",
   "pygments_lexer": "ipython3",
   "version": "3.9.12"
  }
 },
 "nbformat": 4,
 "nbformat_minor": 5
}
