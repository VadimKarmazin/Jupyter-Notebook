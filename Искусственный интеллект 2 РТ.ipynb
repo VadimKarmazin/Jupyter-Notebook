{
 "cells": [
  {
   "cell_type": "markdown",
   "id": "d458a698",
   "metadata": {},
   "source": [
    "# Рабочая тетрадь 2\n",
    "## Кармазин Вадим Сергеевич"
   ]
  },
  {
   "cell_type": "markdown",
   "id": "6f7b5a15",
   "metadata": {},
   "source": [
    "<img src=\"https://www.icegif.com/wp-content/uploads/icegif-65.gif\">"
   ]
  },
  {
   "cell_type": "markdown",
   "id": "9d7d9ce1",
   "metadata": {},
   "source": [
    "### Библиотека NumPy\n",
    "```\n",
    "    NumPy (NumericalPython) - это библиотека Python с открытым исходным кодом, которая используется практически во всех областях науки и техники. Это универсальный стандарт для работы с числовыми данными в Python.\n",
    "    Если у вас уже есть Python, вы можете установить NumPy с помощью командной строки:\n",
    "    - pip install numpy\n",
    "    Чтобы начать использовать NumPy необходимо импортировать соответствующую библиотеку:\n",
    "    import numpy as np\n",
    "    Основным объектом NumPy является однородный многомерный массив (в numpy называется numpy.ndarray). Это многомерный массив элементов (обычно чисел), одного типа.\n",
    "    Наиболее важные атрибуты объектов ndarray:\n",
    "    ndarray.ndim - число измерений (чаще их называют \"оси\") массива.\n",
    "    ndarray.shape - размеры массива, его форма. Это кортеж натуральных чисел, показывающий длину массива по каждой оси. Для матрицы из n строк и m столбов, shape будет (n,m). Число элементов кортежа shape равно ndim.\n",
    "    ndarray.size - количество элементов массива. Очевидно, равно произведению всех элементов атрибута shape.\n",
    "    ndarray.dtype - объект, описывающий тип элементов массива. Можно определить dtype, используя стандартные типы данных Python. NumPy здесь предоставляет целый букет возможностей, как встроенных, например: bool_, character, int8, int16, int32, int64, float8, float16, float32, float64, complex64, object_, так и возможность определить собственные типы данных, в том\n",
    "числе и составные.\n",
    "    ndarray.itemsize - размер каждого элемента массива в байтах.\n",
    "    ndarray.data - буфер, содержащий фактические элементы массива.\n",
    "    Обычно не нужно использовать этот атрибут, так как обращаться к элементам массива проще всего с помощью индексов. Подробнее о массивах в NumPy можно найти в официальной документации https://numpy.org/doc/stable/user/absolute_beginners.html\n",
    "```"
   ]
  },
  {
   "cell_type": "markdown",
   "id": "241f4468",
   "metadata": {},
   "source": [
    "***Пример:*** Создать массив 5x2. Создать массив 5x2. Вывести все значения массива, значение элемента с индексом (3,1) и второй столбец. Индексация начинается с нуля."
   ]
  },
  {
   "cell_type": "code",
   "execution_count": 2,
   "id": "4d6b0775",
   "metadata": {},
   "outputs": [
    {
     "name": "stdout",
     "output_type": "stream",
     "text": [
      "[[ 1  2]\n",
      " [ 3  4]\n",
      " [ 5  6]\n",
      " [ 7  8]\n",
      " [ 9 10]]\n",
      "8\n",
      "[3 4]\n"
     ]
    }
   ],
   "source": [
    "import numpy as np\n",
    "x = np.array([[1, 2], [3, 4], [5, 6], [7, 8], [9, 10]])\n",
    "print(x)\n",
    "print(x[3][1])\n",
    "print(x[1])"
   ]
  },
  {
   "cell_type": "markdown",
   "id": "f2b7a78d",
   "metadata": {},
   "source": [
    "***Пример:*** Выполнить следующее:\n",
    "1. Создать вектор (одномерный массив) размера 10, заполненный нулями.\n",
    "2. Создать вектор размера 10, заполненный единицами.\n",
    "3. Создать вектор размера 10, заполненный заданным числом.\n",
    "4. Создать вектор со значениями от 10 до 19."
   ]
  },
  {
   "cell_type": "code",
   "execution_count": 4,
   "id": "80ea582f",
   "metadata": {},
   "outputs": [
    {
     "name": "stdout",
     "output_type": "stream",
     "text": [
      "[0. 0. 0. 0. 0. 0. 0. 0. 0. 0.] \n",
      " [1. 1. 1. 1. 1. 1. 1. 1. 1. 1.] \n",
      " [5 5 5 5 5 5 5 5 5 5] \n",
      " [10 11 12 13 14 15 16 17 18 19]\n"
     ]
    }
   ],
   "source": [
    "a = np.zeros(10)\n",
    "b = np.ones(10)\n",
    "c = np.full(10, 5)\n",
    "d = np.arange(10, 20)\n",
    "print(a, \"\\n\", b, \"\\n\", c, \"\\n\", d)"
   ]
  },
  {
   "cell_type": "markdown",
   "id": "9c69f553",
   "metadata": {},
   "source": [
    "***Пример:*** Создать массив 10x10 со случайными значениями, найти минимум, максимум и среднее значение."
   ]
  },
  {
   "cell_type": "code",
   "execution_count": 25,
   "id": "8eff0f4a",
   "metadata": {},
   "outputs": [
    {
     "name": "stdout",
     "output_type": "stream",
     "text": [
      "0.004134855049344854 0.9915161254457177 0.4882140246090273\n"
     ]
    }
   ],
   "source": [
    "Z = np.random.random((10, 10))\n",
    "Zmin, Zmax, Zmean = Z.min(), Z.max(), Z.mean()\n",
    "print(Zmin, Zmax, Zmean)"
   ]
  },
  {
   "cell_type": "markdown",
   "id": "9c448122",
   "metadata": {},
   "source": [
    "***Пример:*** Задать матрицу размерности 5 на 5 и поменять 2 строки в матрице местами."
   ]
  },
  {
   "cell_type": "code",
   "execution_count": 8,
   "id": "45420536",
   "metadata": {},
   "outputs": [
    {
     "name": "stdout",
     "output_type": "stream",
     "text": [
      "[[ 5  6  7  8  9]\n",
      " [ 0  1  2  3  4]\n",
      " [10 11 12 13 14]\n",
      " [15 16 17 18 19]\n",
      " [20 21 22 23 24]]\n"
     ]
    }
   ],
   "source": [
    "A = np.arange(25).reshape(5, 5)\n",
    "A[[0, 1]] = A[[1, 0]]\n",
    "print(A)"
   ]
  },
  {
   "cell_type": "markdown",
   "id": "a448626e",
   "metadata": {},
   "source": [
    "***Пример:*** Выяснить результат следующих выражений:</br>\n",
    "0 * np.nan</br>\n",
    "np.nan == np.nan</br>\n",
    "np.inf > np.nan</br>\n",
    "np.nan - np.nan</br>\n",
    "0.3 == 3 * 0.1"
   ]
  },
  {
   "cell_type": "code",
   "execution_count": 9,
   "id": "a9f98186",
   "metadata": {},
   "outputs": [
    {
     "name": "stdout",
     "output_type": "stream",
     "text": [
      "nan\n",
      "False\n",
      "False\n",
      "nan\n",
      "False\n"
     ]
    }
   ],
   "source": [
    "print(0 * np.nan)\n",
    "print(np.nan == np.nan)\n",
    "print(np.inf > np.nan)\n",
    "print(np.nan - np.nan)\n",
    "print(0.3 == 3 * 0.1)"
   ]
  },
  {
   "cell_type": "markdown",
   "id": "6d2d3f3c",
   "metadata": {},
   "source": [
    "***Пример:*** Отсортировать массив."
   ]
  },
  {
   "cell_type": "code",
   "execution_count": 10,
   "id": "56121aeb",
   "metadata": {},
   "outputs": [
    {
     "name": "stdout",
     "output_type": "stream",
     "text": [
      "[1 2 3 4 5 6 7 8]\n"
     ]
    }
   ],
   "source": [
    "arr = np.array([2, 1, 5, 3, 7, 4, 6, 8])\n",
    "print(np.sort(arr))"
   ]
  },
  {
   "cell_type": "markdown",
   "id": "1ea97a03",
   "metadata": {},
   "source": [
    "***Задание:*** Создать 8x8 матрицу и заполнить её в шахматном порядке нулями и единицами"
   ]
  },
  {
   "cell_type": "code",
   "execution_count": 17,
   "id": "8ba58df4",
   "metadata": {},
   "outputs": [
    {
     "name": "stdout",
     "output_type": "stream",
     "text": [
      "[[0 1 0 1 0 1 0 1]\n",
      " [1 0 1 0 1 0 1 0]\n",
      " [0 1 0 1 0 1 0 1]\n",
      " [1 0 1 0 1 0 1 0]\n",
      " [0 1 0 1 0 1 0 1]\n",
      " [1 0 1 0 1 0 1 0]\n",
      " [0 1 0 1 0 1 0 1]\n",
      " [1 0 1 0 1 0 1 0]]\n"
     ]
    }
   ],
   "source": [
    "A = np.zeros((8, 8), dtype = int)\n",
    "A[1::2, ::2] = 1\n",
    "A[::2, 1::2] = 1\n",
    "print(A)"
   ]
  },
  {
   "cell_type": "markdown",
   "id": "0887b4b8",
   "metadata": {},
   "source": [
    "***Задача:*** Создать 5x5 матрицу со значениями в строках от 0 до 4. Для создания необходимо использовать функцию arrange"
   ]
  },
  {
   "cell_type": "code",
   "execution_count": 26,
   "id": "7aabaf9e",
   "metadata": {},
   "outputs": [
    {
     "name": "stdout",
     "output_type": "stream",
     "text": [
      "[0 1 2 3 4]\n"
     ]
    }
   ],
   "source": [
    "A = np.zeros((5, 5) dtype = int)\n",
    "print(A)"
   ]
  },
  {
   "cell_type": "code",
   "execution_count": null,
   "id": "6554b43a",
   "metadata": {},
   "outputs": [],
   "source": []
  }
 ],
 "metadata": {
  "kernelspec": {
   "display_name": "Python 3 (ipykernel)",
   "language": "python",
   "name": "python3"
  },
  "language_info": {
   "codemirror_mode": {
    "name": "ipython",
    "version": 3
   },
   "file_extension": ".py",
   "mimetype": "text/x-python",
   "name": "python",
   "nbconvert_exporter": "python",
   "pygments_lexer": "ipython3",
   "version": "3.9.12"
  }
 },
 "nbformat": 4,
 "nbformat_minor": 5
}
